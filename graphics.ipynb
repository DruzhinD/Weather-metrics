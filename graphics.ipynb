{
 "cells": [
  {
   "cell_type": "code",
   "execution_count": null,
   "metadata": {},
   "outputs": [],
   "source": [
    "import matplotlib.pyplot as plt\n",
    "from WeatherSqlServer import WeatherSqlServer\n",
    "from datetime import datetime\n",
    "\n",
    "db = WeatherSqlServer('WeatherDB', 'HOME-PC')\n",
    "df = db.select_metrics_by_date(datetime(2024, 4, 1), datetime(2024, 6, 30))\n",
    "figure, axis = plt.subplots(2, 1) #несколько графиков\n",
    "figure.tight_layout(pad=3.0) #установка расстояния между ячейками\n",
    "figure.set_size_inches((20, 10)) #размер фигуры\n",
    "axis[0].plot(df['LOCALTIME'].to_numpy(), df['Temperature'].to_numpy(), 'orange', linewidth=1, marker='.', markersize=2)\n",
    "axis[0].set_title('Температура')\n",
    "axis[1].plot(df['LOCALTIME'].to_numpy(), df['WindSpeed'].to_numpy(), 'blue', linewidth=1, marker='.', markersize=2)\n",
    "axis[1].set_title('Скорость ветра')"
   ]
  }
 ],
 "metadata": {
  "kernelspec": {
   "display_name": "venv",
   "language": "python",
   "name": "python3"
  },
  "language_info": {
   "codemirror_mode": {
    "name": "ipython",
    "version": 3
   },
   "file_extension": ".py",
   "mimetype": "text/x-python",
   "name": "python",
   "nbconvert_exporter": "python",
   "pygments_lexer": "ipython3",
   "version": "3.9.13"
  }
 },
 "nbformat": 4,
 "nbformat_minor": 2
}
